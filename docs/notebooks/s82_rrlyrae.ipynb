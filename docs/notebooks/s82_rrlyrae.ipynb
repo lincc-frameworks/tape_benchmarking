{
 "cells": [
  {
   "cell_type": "code",
   "execution_count": null,
   "metadata": {},
   "outputs": [],
   "source": [
    "from lsstseries import Ensemble\n",
    "from lsstseries.utils import ColumnMapper\n",
    "from lsstseries.analysis import calc_stetson_J"
   ]
  },
  {
   "attachments": {},
   "cell_type": "markdown",
   "metadata": {},
   "source": [
    "# Sesar 2010 RR Lyrae (Stripe 82) Dataset\n",
    "\n",
    "This dataset contains 483 RR Lyrae from Sesar 2010. This dataset was sourced from astroml, and then massaged into the parquet format for ingest into TAPE."
   ]
  },
  {
   "attachments": {},
   "cell_type": "markdown",
   "metadata": {},
   "source": [
    "## Loading into the TAPE Ensemble"
   ]
  },
  {
   "cell_type": "code",
   "execution_count": null,
   "metadata": {},
   "outputs": [],
   "source": [
    "ens = Ensemble()\n",
    "colmap = ColumnMapper(id_col=\"#id\", time_col=\"mjd\", flux_col=\"flux\", err_col=\"error\", band_col=\"band\")\n",
    "ens.from_parquet(source_file=\"../../data/s82_rrlyrae/s82rrl_source.parquet\", \n",
    "                 object_file= \"../../data/s82_rrlyrae/s82rrl_object.parquet\",\n",
    "                 column_mapper=colmap,\n",
    "                 provenance_label=\"sesar_2010\")"
   ]
  },
  {
   "cell_type": "code",
   "execution_count": null,
   "metadata": {},
   "outputs": [],
   "source": [
    "ens.compute(\"source\")"
   ]
  },
  {
   "cell_type": "code",
   "execution_count": null,
   "metadata": {},
   "outputs": [],
   "source": [
    "ens.batch(calc_stetson_J)"
   ]
  },
  {
   "cell_type": "code",
   "execution_count": null,
   "metadata": {},
   "outputs": [],
   "source": []
  }
 ],
 "metadata": {
  "kernelspec": {
   "display_name": "Python 3",
   "language": "python",
   "name": "python3"
  },
  "language_info": {
   "codemirror_mode": {
    "name": "ipython",
    "version": 3
   },
   "file_extension": ".py",
   "mimetype": "text/x-python",
   "name": "python",
   "nbconvert_exporter": "python",
   "pygments_lexer": "ipython3",
   "version": "3.10.11"
  },
  "orig_nbformat": 4,
  "vscode": {
   "interpreter": {
    "hash": "83afbb17b435d9bf8b0d0042367da76f26510da1c5781f0ff6e6c518eab621ec"
   }
  }
 },
 "nbformat": 4,
 "nbformat_minor": 2
}
