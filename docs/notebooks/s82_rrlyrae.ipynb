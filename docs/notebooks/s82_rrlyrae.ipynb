{
 "cells": [
  {
   "cell_type": "code",
   "execution_count": 6,
   "metadata": {},
   "outputs": [],
   "source": [
    "from lsstseries import Ensemble\n",
    "from lsstseries.utils import ColumnMapper\n",
    "from lsstseries.analysis import calc_stetson_J"
   ]
  },
  {
   "attachments": {},
   "cell_type": "markdown",
   "metadata": {},
   "source": [
    "# Sesar 2010 RR Lyrae (Stripe 82) Dataset\n",
    "\n",
    "This dataset contains 483 RR Lyrae from Sesar 2010. This dataset was sourced from astroml, and then massaged into the parquet format for ingest into TAPE."
   ]
  },
  {
   "attachments": {},
   "cell_type": "markdown",
   "metadata": {},
   "source": [
    "## Loading into the TAPE Ensemble"
   ]
  },
  {
   "cell_type": "code",
   "execution_count": 11,
   "metadata": {},
   "outputs": [
    {
     "name": "stderr",
     "output_type": "stream",
     "text": [
      "/Users/dbranton/miniforge3/envs/ray310/lib/python3.10/site-packages/distributed/node.py:182: UserWarning: Port 8787 is already in use.\n",
      "Perhaps you already have a cluster running?\n",
      "Hosting the HTTP server on port 63272 instead\n",
      "  warnings.warn(\n"
     ]
    },
    {
     "data": {
      "text/plain": [
       "<lsstseries.ensemble.Ensemble at 0x17f65e770>"
      ]
     },
     "execution_count": 11,
     "metadata": {},
     "output_type": "execute_result"
    }
   ],
   "source": [
    "ens = Ensemble()\n",
    "colmap = ColumnMapper(id_col=\"#id\", time_col=\"mjd\", flux_col=\"flux\", err_col=\"error\", band_col=\"band\")\n",
    "ens.from_parquet(source_file=\"../../data/s82_rrlyrae/s82rrl_source.parquet\", \n",
    "                 object_file= \"../../data/s82_rrlyrae/s82rrl_object.parquet\",\n",
    "                 column_mapper=colmap,\n",
    "                 provenance_label=\"sesar_2010\")"
   ]
  },
  {
   "cell_type": "code",
   "execution_count": 12,
   "metadata": {},
   "outputs": [
    {
     "data": {
      "text/html": [
       "<div>\n",
       "<style scoped>\n",
       "    .dataframe tbody tr th:only-of-type {\n",
       "        vertical-align: middle;\n",
       "    }\n",
       "\n",
       "    .dataframe tbody tr th {\n",
       "        vertical-align: top;\n",
       "    }\n",
       "\n",
       "    .dataframe thead th {\n",
       "        text-align: right;\n",
       "    }\n",
       "</style>\n",
       "<table border=\"1\" class=\"dataframe\">\n",
       "  <thead>\n",
       "    <tr style=\"text-align: right;\">\n",
       "      <th></th>\n",
       "      <th>ra</th>\n",
       "      <th>dec</th>\n",
       "      <th>mjd</th>\n",
       "      <th>flux</th>\n",
       "      <th>error</th>\n",
       "      <th>band</th>\n",
       "      <th>provenance</th>\n",
       "    </tr>\n",
       "    <tr>\n",
       "      <th>#id</th>\n",
       "      <th></th>\n",
       "      <th></th>\n",
       "      <th></th>\n",
       "      <th></th>\n",
       "      <th></th>\n",
       "      <th></th>\n",
       "      <th></th>\n",
       "    </tr>\n",
       "  </thead>\n",
       "  <tbody>\n",
       "    <tr>\n",
       "      <th>4099</th>\n",
       "      <td>0.935679</td>\n",
       "      <td>1.115859</td>\n",
       "      <td>51075.302451</td>\n",
       "      <td>18.039</td>\n",
       "      <td>0.013</td>\n",
       "      <td>u</td>\n",
       "      <td>sesar_2010</td>\n",
       "    </tr>\n",
       "    <tr>\n",
       "      <th>4099</th>\n",
       "      <td>0.935679</td>\n",
       "      <td>1.115859</td>\n",
       "      <td>52196.302986</td>\n",
       "      <td>18.536</td>\n",
       "      <td>0.018</td>\n",
       "      <td>u</td>\n",
       "      <td>sesar_2010</td>\n",
       "    </tr>\n",
       "    <tr>\n",
       "      <th>4099</th>\n",
       "      <td>0.935679</td>\n",
       "      <td>1.115859</td>\n",
       "      <td>52197.316093</td>\n",
       "      <td>-99.990</td>\n",
       "      <td>0.017</td>\n",
       "      <td>u</td>\n",
       "      <td>sesar_2010</td>\n",
       "    </tr>\n",
       "    <tr>\n",
       "      <th>4099</th>\n",
       "      <td>0.935679</td>\n",
       "      <td>1.115859</td>\n",
       "      <td>52225.166255</td>\n",
       "      <td>18.525</td>\n",
       "      <td>0.018</td>\n",
       "      <td>u</td>\n",
       "      <td>sesar_2010</td>\n",
       "    </tr>\n",
       "    <tr>\n",
       "      <th>4099</th>\n",
       "      <td>0.935679</td>\n",
       "      <td>1.115859</td>\n",
       "      <td>52231.202038</td>\n",
       "      <td>-99.990</td>\n",
       "      <td>0.015</td>\n",
       "      <td>u</td>\n",
       "      <td>sesar_2010</td>\n",
       "    </tr>\n",
       "    <tr>\n",
       "      <th>...</th>\n",
       "      <td>...</td>\n",
       "      <td>...</td>\n",
       "      <td>...</td>\n",
       "      <td>...</td>\n",
       "      <td>...</td>\n",
       "      <td>...</td>\n",
       "      <td>...</td>\n",
       "    </tr>\n",
       "    <tr>\n",
       "      <th>5011634</th>\n",
       "      <td>56.510537</td>\n",
       "      <td>-0.561729</td>\n",
       "      <td>54392.477519</td>\n",
       "      <td>18.388</td>\n",
       "      <td>0.028</td>\n",
       "      <td>z</td>\n",
       "      <td>sesar_2010</td>\n",
       "    </tr>\n",
       "    <tr>\n",
       "      <th>5011634</th>\n",
       "      <td>56.510537</td>\n",
       "      <td>-0.561729</td>\n",
       "      <td>54404.451318</td>\n",
       "      <td>18.299</td>\n",
       "      <td>0.033</td>\n",
       "      <td>z</td>\n",
       "      <td>sesar_2010</td>\n",
       "    </tr>\n",
       "    <tr>\n",
       "      <th>5011634</th>\n",
       "      <td>56.510537</td>\n",
       "      <td>-0.561729</td>\n",
       "      <td>54406.387574</td>\n",
       "      <td>18.482</td>\n",
       "      <td>0.024</td>\n",
       "      <td>z</td>\n",
       "      <td>sesar_2010</td>\n",
       "    </tr>\n",
       "    <tr>\n",
       "      <th>5011634</th>\n",
       "      <td>56.510537</td>\n",
       "      <td>-0.561729</td>\n",
       "      <td>54409.392410</td>\n",
       "      <td>18.229</td>\n",
       "      <td>0.027</td>\n",
       "      <td>z</td>\n",
       "      <td>sesar_2010</td>\n",
       "    </tr>\n",
       "    <tr>\n",
       "      <th>5011634</th>\n",
       "      <td>56.510537</td>\n",
       "      <td>-0.561729</td>\n",
       "      <td>54412.413333</td>\n",
       "      <td>18.438</td>\n",
       "      <td>0.051</td>\n",
       "      <td>z</td>\n",
       "      <td>sesar_2010</td>\n",
       "    </tr>\n",
       "  </tbody>\n",
       "</table>\n",
       "<p>142245 rows × 7 columns</p>\n",
       "</div>"
      ],
      "text/plain": [
       "                ra       dec           mjd    flux  error band  provenance\n",
       "#id                                                                       \n",
       "4099      0.935679  1.115859  51075.302451  18.039  0.013    u  sesar_2010\n",
       "4099      0.935679  1.115859  52196.302986  18.536  0.018    u  sesar_2010\n",
       "4099      0.935679  1.115859  52197.316093 -99.990  0.017    u  sesar_2010\n",
       "4099      0.935679  1.115859  52225.166255  18.525  0.018    u  sesar_2010\n",
       "4099      0.935679  1.115859  52231.202038 -99.990  0.015    u  sesar_2010\n",
       "...            ...       ...           ...     ...    ...  ...         ...\n",
       "5011634  56.510537 -0.561729  54392.477519  18.388  0.028    z  sesar_2010\n",
       "5011634  56.510537 -0.561729  54404.451318  18.299  0.033    z  sesar_2010\n",
       "5011634  56.510537 -0.561729  54406.387574  18.482  0.024    z  sesar_2010\n",
       "5011634  56.510537 -0.561729  54409.392410  18.229  0.027    z  sesar_2010\n",
       "5011634  56.510537 -0.561729  54412.413333  18.438  0.051    z  sesar_2010\n",
       "\n",
       "[142245 rows x 7 columns]"
      ]
     },
     "execution_count": 12,
     "metadata": {},
     "output_type": "execute_result"
    }
   ],
   "source": [
    "ens.compute(\"source\")"
   ]
  },
  {
   "cell_type": "code",
   "execution_count": 7,
   "metadata": {},
   "outputs": [
    {
     "data": {
      "text/plain": [
       "#id\n",
       "4099       {'g': 863.1732168925631, 'i': 296.610300259224...\n",
       "13350      {'g': 1214.3493719143382, 'i': 310.22861589464...\n",
       "15927      {'g': 403.3926356621079, 'i': 74.2188248321956...\n",
       "20406      {'g': 497.78142153033696, 'i': 964.72291345825...\n",
       "21992      {'g': 1593.767684772882, 'i': 800.328890694361...\n",
       "                                 ...                        \n",
       "4956681    {'g': 138.60077184758393, 'i': 44.039882549414...\n",
       "4983075    {'g': 52.29160241592073, 'i': 49.7554488763448...\n",
       "4984662    {'g': 450.20697853702836, 'i': 47.514103558278...\n",
       "4992418    {'g': 365.7866944420075, 'i': 65.2748625271253...\n",
       "5011634    {'g': 75.33388747254226, 'i': 43.7241409898109...\n",
       "Name: #id, Length: 483, dtype: object"
      ]
     },
     "execution_count": 7,
     "metadata": {},
     "output_type": "execute_result"
    }
   ],
   "source": [
    "ens.batch(calc_stetson_J)"
   ]
  },
  {
   "cell_type": "code",
   "execution_count": null,
   "metadata": {},
   "outputs": [],
   "source": []
  }
 ],
 "metadata": {
  "kernelspec": {
   "display_name": "Python 3",
   "language": "python",
   "name": "python3"
  },
  "language_info": {
   "codemirror_mode": {
    "name": "ipython",
    "version": 3
   },
   "file_extension": ".py",
   "mimetype": "text/x-python",
   "name": "python",
   "nbconvert_exporter": "python",
   "pygments_lexer": "ipython3",
   "version": "3.10.11"
  },
  "orig_nbformat": 4,
  "vscode": {
   "interpreter": {
    "hash": "83afbb17b435d9bf8b0d0042367da76f26510da1c5781f0ff6e6c518eab621ec"
   }
  }
 },
 "nbformat": 4,
 "nbformat_minor": 2
}
