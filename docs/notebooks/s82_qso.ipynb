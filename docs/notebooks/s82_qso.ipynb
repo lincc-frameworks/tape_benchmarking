{
 "cells": [
  {
   "cell_type": "code",
   "execution_count": null,
   "metadata": {},
   "outputs": [],
   "source": [
    "from lsstseries import Ensemble\n",
    "from lsstseries.utils import ColumnMapper\n",
    "from lsstseries.analysis import calc_stetson_J"
   ]
  },
  {
   "attachments": {},
   "cell_type": "markdown",
   "metadata": {},
   "source": [
    "# Southern Sample (SDSS Stripe 82) QSO Dataset\n",
    "\n",
    "This dataset contains  recalibrated light curves for all spectroscopically confirmed QSOs in the SDSS DR7 stripe 82 (22h 24m < R.A. < 04h 08m and | Dec | < 1.27 deg, about 290 deg2). The total number of QSOs is 9,258, and the observations are spaced out over ~10 years in yearly \"seasons\" about 2-3 months long.. This dataset was sourced from http://faculty.washington.edu/ivezic/cmacleod/qso_dr7/Southern.html, and then massaged into the parquet format for ingest into TAPE."
   ]
  },
  {
   "attachments": {},
   "cell_type": "markdown",
   "metadata": {},
   "source": [
    "## Loading into the TAPE Ensemble"
   ]
  },
  {
   "cell_type": "code",
   "execution_count": null,
   "metadata": {},
   "outputs": [],
   "source": [
    "ens = Ensemble()\n",
    "colmap = ColumnMapper(id_col=\"dbID\", time_col=\"mjd\", flux_col=\"flux\", err_col=\"error\", band_col=\"band\")\n",
    "ens.from_parquet(source_file=\"../../data/s82_qso/s82qso_source.parquet\", \n",
    "                 object_file= \"../../data/s82_qso/s82qso_object.parquet\",\n",
    "                 column_mapper=colmap,\n",
    "                 provenance_label=\"Southern Sample\")"
   ]
  },
  {
   "cell_type": "code",
   "execution_count": null,
   "metadata": {},
   "outputs": [],
   "source": [
    "ens.head(\"source\")"
   ]
  },
  {
   "cell_type": "code",
   "execution_count": null,
   "metadata": {},
   "outputs": [],
   "source": [
    "ens.batch(calc_stetson_J)"
   ]
  },
  {
   "cell_type": "code",
   "execution_count": null,
   "metadata": {},
   "outputs": [],
   "source": []
  }
 ],
 "metadata": {
  "kernelspec": {
   "display_name": "Python 3",
   "language": "python",
   "name": "python3"
  },
  "language_info": {
   "codemirror_mode": {
    "name": "ipython",
    "version": 3
   },
   "file_extension": ".py",
   "mimetype": "text/x-python",
   "name": "python",
   "nbconvert_exporter": "python",
   "pygments_lexer": "ipython3",
   "version": "3.10.11"
  },
  "orig_nbformat": 4,
  "vscode": {
   "interpreter": {
    "hash": "83afbb17b435d9bf8b0d0042367da76f26510da1c5781f0ff6e6c518eab621ec"
   }
  }
 },
 "nbformat": 4,
 "nbformat_minor": 2
}
